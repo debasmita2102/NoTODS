{
 "cells": [
  {
   "cell_type": "code",
   "execution_count": 115,
   "id": "7d8a73ca",
   "metadata": {},
   "outputs": [
    {
     "name": "stdout",
     "output_type": "stream",
     "text": [
      "The autoreload extension is already loaded. To reload it, use:\n",
      "  %reload_ext autoreload\n"
     ]
    }
   ],
   "source": [
    "%load_ext autoreload"
   ]
  },
  {
   "cell_type": "code",
   "execution_count": 125,
   "id": "958776ee",
   "metadata": {},
   "outputs": [],
   "source": [
    "%autoreload 2"
   ]
  },
  {
   "cell_type": "code",
   "execution_count": 126,
   "id": "5cdcde0d",
   "metadata": {},
   "outputs": [],
   "source": [
    "import numpy as np\n",
    "from qiskit import *\n",
    "import time\n",
    "import mapomatic as mm\n",
    "from qiskit.providers.fake_provider import *\n",
    "from qiskit.circuit.library import *\n"
   ]
  },
  {
   "cell_type": "code",
   "execution_count": 127,
   "id": "94c3a95c",
   "metadata": {},
   "outputs": [],
   "source": [
    "from NoTODS import *\n"
   ]
  },
  {
   "cell_type": "code",
   "execution_count": 128,
   "id": "eb44533e",
   "metadata": {},
   "outputs": [
    {
     "data": {
      "image/png": "[encoded data removed]",
      "text/plain": [
       "<Figure size 507.997x385.28 with 1 Axes>"
      ]
     },
     "execution_count": 128,
     "metadata": {},
     "output_type": "execute_result"
    }
   ],
   "source": [
    "\n",
    "num_qubits=6\n",
    "circ_test = RealAmplitudes(num_qubits, reps=1) \n",
    "circ_test = circ_test.decompose()\n",
    "\n",
    "circ_test.remove_final_measurements(inplace=True)\n",
    "circ_test.draw('mpl')"
   ]
  },
  {
   "cell_type": "code",
   "execution_count": 129,
   "id": "dbf16717",
   "metadata": {},
   "outputs": [],
   "source": [
    "backendlist = [FakeManila(), FakeQuito(), FakeBelem(), FakeLima(), FakeLagos(), FakeNairobi(),  FakeJakarta(), FakeGuadalupe(), FakeKolkata(), FakeMumbai(),  FakeCairo(), FakeHanoi()]\n"
   ]
  },
  {
   "cell_type": "code",
   "execution_count": 130,
   "id": "541b7d4a",
   "metadata": {},
   "outputs": [],
   "source": [
    "Tau = [200]*len(backendlist)"
   ]
  },
  {
   "cell_type": "code",
   "execution_count": 131,
   "id": "bedc3b60",
   "metadata": {},
   "outputs": [],
   "source": [
    "obj = NoTODS(circ_test, backendlist, Tau) "
   ]
  },
  {
   "cell_type": "code",
   "execution_count": 132,
   "id": "bfaa5275",
   "metadata": {},
   "outputs": [
    {
     "name": "stdout",
     "output_type": "stream",
     "text": [
      "Exporting as a LP file to let you check the model that will be solved :  inf <class 'float'>\n",
      "Version identifier: 22.1.1.0 | 2022-11-28 | 9160aff4d\n",
      "CPXPARAM_Read_DataCheck                          1\n",
      "CPXPARAM_TimeLimit                               300\n",
      "Warning:  Non-integral bounds for integer variables rounded.\n",
      "Tried aggregator 3 times.\n",
      "MIP Presolve eliminated 34 rows and 7 columns.\n",
      "MIP Presolve modified 17 coefficients.\n",
      "Aggregator did 29 substitutions.\n",
      "Reduced MIP has 50 rows, 24 columns, and 152 nonzeros.\n",
      "Reduced MIP has 21 binaries, 3 generals, 0 SOSs, and 0 indicators.\n",
      "Presolve time = 0.01 sec. (0.50 ticks)\n",
      "Found incumbent of value 1.000000 after 0.01 sec. (0.65 ticks)\n",
      "Probing fixed 14 vars, tightened 4 bounds.\n",
      "Probing changed sense of 3 constraints.\n",
      "Probing time = 0.00 sec. (0.04 ticks)\n",
      "Tried aggregator 1 time.\n",
      "MIP Presolve eliminated 50 rows and 24 columns.\n",
      "All rows and columns eliminated.\n",
      "Presolve time = 0.01 sec. (0.02 ticks)\n",
      "\n",
      "Root node processing (before b&c):\n",
      "  Real time             =    0.03 sec. (0.74 ticks)\n",
      "Parallel b&c, 8 threads:\n",
      "  Real time             =    0.00 sec. (0.00 ticks)\n",
      "  Sync time (average)   =    0.00 sec.\n",
      "  Wait time (average)   =    0.00 sec.\n",
      "                          ------------\n",
      "Total (root+branch&cut) =    0.03 sec. (0.74 ticks)\n",
      "objective: 0.095\n",
      "status: OPTIMAL_SOLUTION(2)\n",
      "  F0_9=1\n",
      "  F1_11=1\n"
     ]
    }
   ],
   "source": [
    "model = obj.schedule()"
   ]
  },
  {
   "cell_type": "code",
   "execution_count": 133,
   "id": "e014f279",
   "metadata": {},
   "outputs": [
    {
     "data": {
      "text/plain": [
       "['fake_mumbai', 'fake_hanoi']"
      ]
     },
     "execution_count": 133,
     "metadata": {},
     "output_type": "execute_result"
    }
   ],
   "source": [
    "model"
   ]
  },
  {
   "cell_type": "code",
   "execution_count": null,
   "id": "6cfc4dda",
   "metadata": {},
   "outputs": [],
   "source": []
  },
  {
   "cell_type": "code",
   "execution_count": null,
   "id": "8cc27f46",
   "metadata": {},
   "outputs": [],
   "source": []
  }
 ],
 "metadata": {
  "kernelspec": {
   "display_name": "Python 3 (ipykernel)",
   "language": "python",
   "name": "python3"
  },
  "language_info": {
   "codemirror_mode": {
    "name": "ipython",
    "version": 3
   },
   "file_extension": ".py",
   "mimetype": "text/x-python",
   "name": "python",
   "nbconvert_exporter": "python",
   "pygments_lexer": "ipython3",
   "version": "3.9.12"
  }
 },
 "nbformat": 4,
 "nbformat_minor": 5
}
